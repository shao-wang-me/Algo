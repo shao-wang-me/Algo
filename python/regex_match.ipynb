{
 "cells": [
  {
   "attachments": {},
   "cell_type": "markdown",
   "metadata": {},
   "source": [
    "# Regex Matching (. and * only)\n",
    "\n",
    "- JZ Offer problem 19\n",
    "- LeetCode CN：https://leetcode.cn/problems/zheng-ze-biao-da-shi-pi-pei-lcof/"
   ]
  },
  {
   "attachments": {},
   "cell_type": "markdown",
   "metadata": {},
   "source": [
    "## General idea\n",
    "\n",
    "1. not p not s -> true\n",
    "2. not p -> false\n",
    "3. p has * (c* or .*)\n",
    "   1. match none, or\n",
    "   2. match match, or\n",
    "   3. match many\n",
    "4. p is just c or .\n",
    "   1. not s -> false\n",
    "   2. s[0] == p[0] -> check remaining\n",
    "   3. s[0] != p[0] -> false"
   ]
  },
  {
   "attachments": {},
   "cell_type": "markdown",
   "metadata": {},
   "source": [
    "Below is a faithful implementation of the above idea. It uses `functools.cache` to make it dynamic programming."
   ]
  },
  {
   "cell_type": "code",
   "execution_count": 22,
   "metadata": {},
   "outputs": [],
   "source": [
    "from functools import cache\n",
    "\n",
    "@cache\n",
    "def match(s, p):\n",
    "  if not s and not p:\n",
    "    return True\n",
    "  if not p:\n",
    "    return False\n",
    "  if not (len(p) > 1 and p[1] == '*'):  # pattern is NOT \"c*\" or \".*\"\n",
    "    if not s:\n",
    "      return False\n",
    "    if p[0] != '.':  # pattern is \"c\"\n",
    "      if p[0] == s[0]:\n",
    "        return match(s[1:], p[1:])\n",
    "    else:  # pattern is \".\"\n",
    "      return match(s[1:], p[1:])\n",
    "  else:  # pattern IS \"c*\" or \".*\"\n",
    "    match_none = match(s, p[2:])\n",
    "    match_at_least_one = bool(s and (p[0] == s[0] or p[0] == '.'))\n",
    "    match_one = match_at_least_one and match(s[1:], p[2:])\n",
    "    match_many = match_at_least_one and match(s[1:], p)\n",
    "    return match_none or match_one or match_many\n",
    "  return False"
   ]
  },
  {
   "attachments": {},
   "cell_type": "markdown",
   "metadata": {},
   "source": [
    "A cleaner, simplified but less readable version:"
   ]
  },
  {
   "cell_type": "code",
   "execution_count": 50,
   "metadata": {},
   "outputs": [],
   "source": [
    "from functools import cache\n",
    "\n",
    "@cache\n",
    "def match(s, p):\n",
    "  if not p: return not s\n",
    "  if len(p) > 1 and p[1] == '*':\n",
    "    return match(s, p[2:]) or \\\n",
    "      bool(s and (p[0] == '.' or p[0] == s[0])) \\\n",
    "      and (match(s[1:], p[2:]) or match(s[1:], p))\n",
    "  if s and (p[0] == '.' or p[0] == s[0]):\n",
    "    return match(s[1:], p[1:])\n",
    "  return False"
   ]
  },
  {
   "attachments": {},
   "cell_type": "markdown",
   "metadata": {},
   "source": [
    "Here is a test block you can run to check the correctness."
   ]
  },
  {
   "cell_type": "code",
   "execution_count": 51,
   "metadata": {},
   "outputs": [],
   "source": [
    "assert match('abc', 'abc') is True\n",
    "assert match('abc', 'a.c') is True\n",
    "assert match('', '') is True\n",
    "assert match('a', '.') is True\n",
    "assert match('aaa', 'a*aa') is True\n",
    "assert match('aa', 'a*aa') is True\n",
    "assert match('a', 'a*') is True\n",
    "assert match('a', 'a*aa') is False\n",
    "assert match('a', 'a*b') is False\n",
    "assert match('ab', '.*') is True\n",
    "assert match('ab', '.*c') is False\n",
    "assert match('mississippi', 'mis*is*p*.') is False"
   ]
  }
 ],
 "metadata": {
  "kernelspec": {
   "display_name": "Python 3",
   "language": "python",
   "name": "python3"
  },
  "language_info": {
   "codemirror_mode": {
    "name": "ipython",
    "version": 3
   },
   "file_extension": ".py",
   "mimetype": "text/x-python",
   "name": "python",
   "nbconvert_exporter": "python",
   "pygments_lexer": "ipython3",
   "version": "3.11.0"
  },
  "orig_nbformat": 4
 },
 "nbformat": 4,
 "nbformat_minor": 2
}
